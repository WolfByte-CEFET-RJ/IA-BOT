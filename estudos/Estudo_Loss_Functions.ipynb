{
  "nbformat": 4,
  "nbformat_minor": 0,
  "metadata": {
    "colab": {
      "name": "Estudo Loss Functions.ipynb",
      "provenance": [],
      "collapsed_sections": []
    },
    "kernelspec": {
      "name": "python3",
      "display_name": "Python 3"
    },
    "language_info": {
      "name": "python"
    }
  },
  "cells": [
    {
      "cell_type": "markdown",
      "metadata": {
        "id": "MtdJOUPzk49k"
      },
      "source": [
        "**Categorical Cross Entropy**"
      ]
    },
    {
      "cell_type": "code",
      "metadata": {
        "id": "bzFNKHQ0yL9R",
        "colab": {
          "base_uri": "https://localhost:8080/"
        },
        "outputId": "0d0a47b2-a9ed-4920-e01d-c312ed071f3e"
      },
      "source": [
        "import math\n",
        "\n",
        "mexer no valor do indice 0 ver como influencia no resultado\n",
        "softmax_output = [0.999, 0, 0]  #essa é a previsao\n",
        "\n",
        "target_output = [1,0,0] #one hot encoding (é a resposta)\n",
        "#imaginando que o target_output classifique humano, cachorro e gato, nesse caso, a resposta é humano.\n",
        "\n",
        "loss = -math.log(softmax_output[0]) #na previsao o indice 0 está 0.999, entao está muito certo que é\n",
        "                                    #humano, por isso o valor resultante da loss function é baixo\n",
        "loss"
      ],
      "execution_count": 1,
      "outputs": [
        {
          "output_type": "execute_result",
          "data": {
            "text/plain": [
              "0.0010005003335835344"
            ]
          },
          "metadata": {
            "tags": []
          },
          "execution_count": 1
        }
      ]
    },
    {
      "cell_type": "markdown",
      "metadata": {
        "id": "orTF-fy4lHqY"
      },
      "source": [
        "**Agora com os dados em Batches**\n",
        "\n"
      ]
    },
    {
      "cell_type": "code",
      "metadata": {
        "colab": {
          "base_uri": "https://localhost:8080/"
        },
        "id": "zMsGGHmIzyqH",
        "outputId": "1cd254df-53e1-4fb4-c813-561d022c1798"
      },
      "source": [
        "import numpy as np\n",
        "\n",
        "softmax_output = np.array([[0.7,0.1,0.2],\n",
        "                           [0.1,0.5,0.4],\n",
        "                           [0.02,0.9,0.08]])\n",
        "class_targets = [0,1,0]\n",
        "\n",
        "\n",
        "print(-np.log(softmax_output[range(len(softmax_output)), class_targets]))"
      ],
      "execution_count": 2,
      "outputs": [
        {
          "output_type": "stream",
          "text": [
            "[0.35667494 0.69314718 3.91202301]\n"
          ],
          "name": "stdout"
        }
      ]
    },
    {
      "cell_type": "markdown",
      "metadata": {
        "id": "cbEDArMnliNJ"
      },
      "source": [
        "**Transformando em classe**"
      ]
    },
    {
      "cell_type": "code",
      "metadata": {
        "id": "rGFOMnOS3led"
      },
      "source": [
        "class Loss:\n",
        "  def calculate(self, output, y):\n",
        "    sample_losses = self.forward(output, y)\n",
        "    data_loss = np.mean(sample_losses)\n",
        "    return data_loss\n",
        "\n",
        "class Loss_CategoricalCrossentropy(Loss):\n",
        "  def forward(self, y_pred, y_true):\n",
        "    samples = len(y_pred)\n",
        "    y_pred_clipped = np.clip(y_pred, 1e-7, 1 - 1e-7)\n",
        "\n",
        "    if len(y_true.shape) == 1:\n",
        "      correct_confidences = y_pred_clipped[\n",
        "      range(samples),y_true]\n",
        "\n",
        "    elif len(y_true.shape) == 2:\n",
        "      correct_confidences = np.sum(y_pred_clipped * y_true,axis=1)\n",
        "      negative_log_likelihoods = -np.log(correct_confidences)\n",
        "    return negative_log_likelihoods\n",
        "\n",
        "    "
      ],
      "execution_count": 7,
      "outputs": []
    }
  ]
}