{
  "nbformat": 4,
  "nbformat_minor": 0,
  "metadata": {
    "colab": {
      "name": "Estudo estrutura de uma rede.ipynb",
      "provenance": []
    },
    "kernelspec": {
      "name": "python3",
      "display_name": "Python 3"
    },
    "language_info": {
      "name": "python"
    }
  },
  "cells": [
    {
      "cell_type": "markdown",
      "metadata": {
        "id": "udqUqCMJi0sa"
      },
      "source": [
        "**Desenho**\n",
        "https://jamboard.google.com/d/1YB1yVx4cyOIZlgti0TRcOto0q1dR41E2Ax213hu1DAc/edit?usp=sharing"
      ]
    },
    {
      "cell_type": "markdown",
      "metadata": {
        "id": "fU8HW4Zy88xU"
      },
      "source": [
        "**Para um neuronio:**"
      ]
    },
    {
      "cell_type": "code",
      "metadata": {
        "colab": {
          "base_uri": "https://localhost:8080/"
        },
        "id": "4WqLULqH8smJ",
        "outputId": "edec2629-c8a7-4683-e90f-79fdb907ae1d"
      },
      "source": [
        "inputs = [1.2,3.4,5.3,1.7]\n",
        "weights = [3.1,5.4,2.3,3.9]\n",
        "bias = 2\n",
        "output = inputs[0]*weights[0] + inputs[1]*weights[1] +  inputs[2]*weights[2] +  inputs[3]*weights[3]  + bias   #aquele calculo padrao de inputs*weights + bias\n",
        "print(output)"
      ],
      "execution_count": null,
      "outputs": [
        {
          "output_type": "stream",
          "text": [
            "42.9\n"
          ],
          "name": "stdout"
        }
      ]
    },
    {
      "cell_type": "markdown",
      "metadata": {
        "id": "Lp78Rbbw9Mcn"
      },
      "source": [
        "**Para uma camada:**"
      ]
    },
    {
      "cell_type": "code",
      "metadata": {
        "colab": {
          "base_uri": "https://localhost:8080/"
        },
        "id": "TUFl2fy9704v",
        "outputId": "4585f47a-31fd-47e3-d759-634aeb8ac7e7"
      },
      "source": [
        "import numpy as np \n",
        "\n",
        "inputs = [1.2,3.4,5.3,1.7]\n",
        "weights = [[3.1,5.4,2.3,3.9],\n",
        "           [2.1,5.2,6.3,2.9],\n",
        "           [5.1,2.2,2.3,5.9]]\n",
        "biases = [2,3,0.5]\n",
        "\n",
        "output = np.dot(weights,inputs) + biases      #essa função do numpy simplifica aquilo q agnt fez em cima\n",
        "print(output)"
      ],
      "execution_count": null,
      "outputs": [
        {
          "output_type": "stream",
          "text": [
            "[42.9  61.52 36.32]\n"
          ],
          "name": "stdout"
        }
      ]
    },
    {
      "cell_type": "markdown",
      "metadata": {
        "id": "g1__502a8Uwz"
      },
      "source": [
        "**Refatorando e usando numpy..**"
      ]
    },
    {
      "cell_type": "code",
      "metadata": {
        "id": "lzmOrW3py0-L"
      },
      "source": [
        "inputs = [1.2,3.4,5.3,1.7]\n",
        "weights1 = [3.1,5.4,2.3,3.9]\n",
        "weights2 = [2.1,5.2,6.3,2.9]\n",
        "weights3 = [5.1,2.2,2.3,5.9]\n",
        "bias1 = 2\n",
        "bias2 = 3\n",
        "bias3 = 0.5"
      ],
      "execution_count": null,
      "outputs": []
    },
    {
      "cell_type": "code",
      "metadata": {
        "id": "JL_NZkgpy5Y2"
      },
      "source": [
        "output = [inputs[0]*weights1[0] + inputs[1]*weights1[1] +  inputs[2]*weights1[2] +  inputs[3]*weights1[3]  + bias1,\n",
        "          inputs[0]*weights2[0] + inputs[1]*weights2[1] +  inputs[2]*weights2[2] +  inputs[3]*weights2[3]  + bias2,\n",
        "          inputs[0]*weights3[0] + inputs[1]*weights3[1] +  inputs[2]*weights3[2] +  inputs[3]*weights3[3]  + bias3]\n",
        "print(output)"
      ],
      "execution_count": null,
      "outputs": []
    },
    {
      "cell_type": "markdown",
      "metadata": {
        "id": "FOvTU5Np9j3V"
      },
      "source": [
        "**Usando batches...**"
      ]
    },
    {
      "cell_type": "code",
      "metadata": {
        "id": "0FRDSyI_8KJx"
      },
      "source": [
        "inputs = [ [1.2,3.4,5.3,1.7],           #diferente da forma do input q agnt usou em cima, oq realmente acontece é q os inputs\n",
        "           [2.3,4.1,3.2,4.7],           #são passados em batches(pacotes) ent agnt usou arrays dentro de arrays\n",
        "           [3.5,3.4,1.6,2.6] ]          #o pq de usar batches é explicado na animação no minuto 5:13 do video de batches naquela playlist\n",
        "\n",
        "weights = [ [3.1,5.4,2.3,3.9],\n",
        "            [2.1,5.2,6.3,2.9],\n",
        "            [5.1,2.2,2.3,5.9] ]\n",
        "\n",
        "biases = [2,3,0.5]\n",
        "\n",
        "layer1_outputs = np.dot(inputs,np.array(weights).T) + biases      #o metodo .T do numpy faz a transposta automaticamente.\n",
        "print(layer1_outputs)                                             #agnt precisa da transporta pra poder fazer a mult matricial sem dar problema de shape\n"
      ],
      "execution_count": null,
      "outputs": []
    },
    {
      "cell_type": "markdown",
      "metadata": {
        "id": "EV9wAHjBHWL-"
      },
      "source": [
        "**Segunda camada**"
      ]
    },
    {
      "cell_type": "code",
      "metadata": {
        "id": "6OZaSylSC3Q8"
      },
      "source": [
        "weights2 = [ [2.1,1.4,6.3],\n",
        "            [2.1,5.2,4.3],                                            #aqui agnt faz o msm esquema, dessa vez pra segunda camada\n",
        "            [5.1,1.2,3.3] ]\n",
        "\n",
        "biases2 = [-1,2,0.5]\n",
        "\n",
        "layer2_outputs = np.dot(layer1_outputs,np.array(weights2).T) + biases2         #o output da camada anterior é usado pra multiplicar cm os pesos dessa\n",
        "print(layer2_outputs)"
      ],
      "execution_count": null,
      "outputs": []
    },
    {
      "cell_type": "markdown",
      "metadata": {
        "id": "_14T--HgJWcA"
      },
      "source": [
        "**Código Final**"
      ]
    },
    {
      "cell_type": "code",
      "metadata": {
        "colab": {
          "base_uri": "https://localhost:8080/"
        },
        "id": "fZSs_noAIbq5",
        "outputId": "f01a4287-fc02-4e25-ac3b-3c856b994355"
      },
      "source": [
        "import numpy as np\n",
        "\n",
        "X = [ [1.2,3.4,5.3,1.7],     #boa pratica declarar os dados de input como X\n",
        "      [2.3,4.1,3.2,4.7],\n",
        "      [3.5,3.4,1.6,2.6] ]\n",
        "\n",
        "class Layer_Dense:\n",
        "  def __init__(self, n_inputs,n_neurons):    #recebe como parametro o numero de inputs(nº de neuronios na camada anterior) e o nº de neuronios nessa camada que está sendo criada\n",
        "    self.weights = 0.10 * np.random.randn(n_inputs, n_neurons)  #é criada de forma aleatória uma matriz e multiplica por 0.1 para diminuir o tamanho dos dados\n",
        "    self.biases = np.zeros((1, n_neurons))                      #é criado um array pros biases, inicialmente só tem 0\n",
        "  def forward(self, inputs):\n",
        "    self.output = np.dot(inputs, self.weights) + self.biases    #nesse método é feito aquele calculo de inputs * weights + bias\n",
        "\n",
        "layer1 = Layer_Dense(4,3)        #aqui é usado a classe pra criar uma camada\n",
        "\n",
        "layer1.forward(X)               \n",
        "\n",
        "print(layer1.output)"
      ],
      "execution_count": 1,
      "outputs": [
        {
          "output_type": "stream",
          "text": [
            "[[ 0.05172401  0.45996612 -0.66795086]\n",
            " [-0.34974809  0.313758   -0.2388184 ]\n",
            " [ 0.0080852   0.23930502 -0.30663959]]\n"
          ],
          "name": "stdout"
        }
      ]
    },
    {
      "cell_type": "markdown",
      "metadata": {
        "id": "esokRuaOa7jb"
      },
      "source": [
        "**Aplicando no projeto**"
      ]
    },
    {
      "cell_type": "code",
      "metadata": {
        "id": "DlcbMOcTpbhX",
        "colab": {
          "base_uri": "https://localhost:8080/"
        },
        "outputId": "282825c6-2e99-43a1-a07c-b2b7e9fac2d1"
      },
      "source": [
        "#mesma classe q agnt criou acima\n",
        "class Layer_Dense:         \n",
        "  def __init__(self, n_inputs,n_neurons):\n",
        "    self.weights = 0.10 * np.random.randn(n_inputs, n_neurons)\n",
        "    self.biases = np.zeros((1, n_neurons))\n",
        "  def forward(self, inputs):\n",
        "    self.output = np.dot(inputs, self.weights) + self.biases\n",
        "\n",
        "#No nosso projeto agnt precisa de 30 dados de entrada(textura,concavidade, etc). Aqui eu passei 30 dados de exemplo só pra agnt testar.\n",
        "previsores = [0.01,0.02,0.1,-0.3,0.5,0.01,0.02,0.1,-0.3,0.5,0.01,0.02,0.1,-0.3,0.5,\n",
        "              0.01,0.02,0.1,-0.3,0.5,0.01,0.02,0.1,-0.3,0.5,0.01,0.02,0.1,-0.3,0.5]\n",
        "\n",
        "layer1 = Layer_Dense(30,16)   #a rede tem 30 entradas, entao a primeira camada tem um input de 30. A camada em si tem 16 neuronios\n",
        "layer2 = Layer_Dense(16,16)\n",
        "layer3 = Layer_Dense(16,1)\n",
        "\n",
        "layer1.forward(previsores)\n",
        "layer2.forward(layer1.output)\n",
        "layer3.forward(layer2.output)\n",
        "\n",
        "print(layer3.output)\n"
      ],
      "execution_count": null,
      "outputs": [
        {
          "output_type": "stream",
          "text": [
            "[[-0.01545148]]\n"
          ],
          "name": "stdout"
        }
      ]
    },
    {
      "cell_type": "markdown",
      "metadata": {
        "id": "RlMK6BPJIeuv"
      },
      "source": [
        ""
      ]
    }
  ]
}